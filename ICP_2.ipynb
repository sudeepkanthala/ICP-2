{
  "nbformat": 4,
  "nbformat_minor": 0,
  "metadata": {
    "colab": {
      "provenance": [],
      "authorship_tag": "ABX9TyMS7LE0RrAp3WNRpEY+CI4s",
      "include_colab_link": true
    },
    "kernelspec": {
      "name": "python3",
      "display_name": "Python 3"
    },
    "language_info": {
      "name": "python"
    }
  },
  "cells": [
    {
      "cell_type": "markdown",
      "metadata": {
        "id": "view-in-github",
        "colab_type": "text"
      },
      "source": [
        "<a href=\"https://colab.research.google.com/github/sudeepkanthala/ICP-2/blob/main/ICP_2.ipynb\" target=\"_parent\"><img src=\"https://colab.research.google.com/assets/colab-badge.svg\" alt=\"Open In Colab\"/></a>"
      ]
    },
    {
      "cell_type": "markdown",
      "source": [
        "**Problem 1**"
      ],
      "metadata": {
        "id": "mmNYi4e-jKK7"
      }
    },
    {
      "cell_type": "code",
      "source": [
        "1. Write a program that takes two strings from the user: first_name, last_name. Pass these variables to\n",
        "fullname function that should return the (full name).\n",
        "o For example:\n",
        "▪ First_name = “your first name”, last_name = “your last name”\n",
        "▪ Full_name = “your full name”\n",
        "o Write function named “string_alternative” that returns every other char in the full_name string.\n",
        "Str = “Good evening”\n",
        "Output: Go vnn\n",
        "Note: You need to create a function named “string_alternative” for this program and call it from\n",
        "main function."
      ],
      "metadata": {
        "id": "zRLvhl3pcRzJ"
      },
      "execution_count": null,
      "outputs": []
    },
    {
      "cell_type": "code",
      "source": [
        "def string_alternative(string):\n",
        "  alt_str = \"\"\n",
        "  for i in range(len(string)):\n",
        "    if i % 2 == 0:\n",
        "      alt_str += string[i]\n",
        "  return alt_str\n",
        "\n",
        "def get_full_name(first, last):\n",
        "  full = first + \" \" + last\n",
        "  return full\n",
        "\n",
        "def main():\n",
        "  f_name = input(\"Enter your first name: \")\n",
        "  l_name = input(\"Enter your last name: \")\n",
        "\n",
        "  full_name = get_full_name(f_name, l_name)\n",
        "\n",
        "  alt_str = string_alternative(full_name)\n",
        "  print(alt_str)\n",
        "\n",
        "if __name__ == '__main__':\n",
        "  main()"
      ],
      "metadata": {
        "colab": {
          "base_uri": "https://localhost:8080/"
        },
        "id": "1Hu535JffxGG",
        "outputId": "17bcb1f3-e4a8-4f2d-ba67-518f9c472d82"
      },
      "execution_count": 1,
      "outputs": [
        {
          "output_type": "stream",
          "name": "stdout",
          "text": [
            "Enter your first name: Sudeep\n",
            "Enter your last name: Reddy\n",
            "Sde ed\n"
          ]
        }
      ]
    },
    {
      "cell_type": "markdown",
      "source": [
        "**Problem 2**"
      ],
      "metadata": {
        "id": "1d77CD1-jP7W"
      }
    },
    {
      "cell_type": "code",
      "source": [
        "2. Write a python program to find the wordcount in a file (input.txt) for each line and then print the output.\n",
        "o Finally store the output in output.txt file.\n",
        "Example:\n",
        "Input: a file includes two lines:\n",
        "Python Course\n",
        "Deep Learning Course\n",
        "Output:\n",
        "Python Course\n",
        "Deep Learning Course\n",
        "Word_Count:\n",
        "Python: 1\n",
        "Course: 2\n",
        "Deep: 1\n",
        "Learning: 1"
      ],
      "metadata": {
        "id": "IWg4qkRHdphh"
      },
      "execution_count": null,
      "outputs": []
    },
    {
      "cell_type": "code",
      "source": [
        "with open('input.txt') as f:\n",
        "  lines = f.readlines()\n",
        "\n",
        "words = {}\n",
        "\n",
        "for line in lines:\n",
        "  for word in line.split():\n",
        "    words[word] = words.get(word, 0) + 1\n",
        "\n",
        "with open('output.txt','w') as f:\n",
        "  for line in lines:\n",
        "    f.write(line)\n",
        "\n",
        "  f.write('\\n')\n",
        "\n",
        "  for k,v in words.items():\n",
        "    f.write(f'{k}: {v} ')"
      ],
      "metadata": {
        "id": "IboIQ46lkFxp"
      },
      "execution_count": 5,
      "outputs": []
    },
    {
      "cell_type": "markdown",
      "source": [
        "**Problem 3**"
      ],
      "metadata": {
        "id": "d4AcS0MpkTa8"
      }
    },
    {
      "cell_type": "code",
      "source": [
        "3. Write a program, which reads heights (inches.) of customers into a list and convert these\n",
        "heights to centimeters in a separate list using:\n",
        "1) Nested Interactive loop.\n",
        "2) List comprehensions\n",
        "Example: L1: [150,155, 145, 148]\n",
        "Output: [68.03, 70.3, 65.77, 67.13]"
      ],
      "metadata": {
        "id": "v2KPVYrld0bk"
      },
      "execution_count": null,
      "outputs": []
    },
    {
      "cell_type": "code",
      "source": [
        "# Take input\n",
        "num = int(input(\"Enter number of heights: \"))\n",
        "inches = []\n",
        "for i in range(num):\n",
        "    height = float(input(\"Enter height in inches: \"))\n",
        "    inches.append(height)\n",
        "\n",
        "# Nested loop\n",
        "centimeters = []\n",
        "for height in inches:\n",
        "    cm = height * float(2.54)\n",
        "    centimeters.append(cm)\n",
        "\n",
        "print(centimeters)\n",
        "\n",
        "# List comprehension\n",
        "centimeters = [height * float(2.54) for height in inches]\n",
        "print(centimeters)"
      ],
      "metadata": {
        "colab": {
          "base_uri": "https://localhost:8080/"
        },
        "id": "xm2_5V_sl_6I",
        "outputId": "a5a1ae4e-9cf6-4ea2-a6c8-31e76718644b"
      },
      "execution_count": 7,
      "outputs": [
        {
          "output_type": "stream",
          "name": "stdout",
          "text": [
            "Enter number of heights: 4\n",
            "Enter height in inches: 150\n",
            "Enter height in inches: 155\n",
            "Enter height in inches: 145\n",
            "Enter height in inches: 148\n",
            "[381.0, 393.7, 368.3, 375.92]\n",
            "[381.0, 393.7, 368.3, 375.92]\n"
          ]
        }
      ]
    }
  ]
}